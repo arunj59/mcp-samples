{
 "cells": [
  {
   "cell_type": "code",
   "execution_count": null,
   "metadata": {
    "vscode": {
     "languageId": "plaintext"
    }
   },
   "outputs": [],
   "source": [
    "# OpenWeatherMap API Raw Data Analysis\n",
    "\n",
    "This notebook fetches and displays raw weather data including precipitation values from OpenWeatherMap API.\n"
   ]
  },
  {
   "cell_type": "code",
   "execution_count": null,
   "metadata": {},
   "outputs": [],
   "source": [
    "import httpx\n",
    "import json\n",
    "from dotenv import dotenv_values\n",
    "import pandas as pd\n",
    "from IPython.display import JSON\n",
    "\n",
    "# Load environment variables\n",
    "config = dotenv_values(\".env\")\n",
    "OPENWEATHER_API_KEY = config.get(\"ENV_OPENWEATHER_API_KEY\")\n",
    "OPENWEATHER_API_BASE = \"https://api.openweathermap.org/data/2.5\"\n"
   ]
  },
  {
   "cell_type": "code",
   "execution_count": null,
   "metadata": {},
   "outputs": [],
   "source": [
    "async def fetch_weather_data(city: str, country_code: str = \"\"):\n",
    "    \"\"\"Fetch both current weather and forecast data for analysis\"\"\"\n",
    "    location = f\"{city},{country_code}\" if country_code else city\n",
    "    \n",
    "    # Parameters for API calls\n",
    "    params = {\n",
    "        \"q\": location,\n",
    "        \"appid\": OPENWEATHER_API_KEY,\n",
    "        \"units\": \"metric\"\n",
    "    }\n",
    "    \n",
    "    async with httpx.AsyncClient() as client:\n",
    "        # Fetch current weather\n",
    "        weather_response = await client.get(\n",
    "            f\"{OPENWEATHER_API_BASE}/weather\",\n",
    "            params=params\n",
    "        )\n",
    "        weather_data = weather_response.json()\n",
    "        \n",
    "        # Fetch forecast data\n",
    "        forecast_response = await client.get(\n",
    "            f\"{OPENWEATHER_API_BASE}/forecast\",\n",
    "            params=params\n",
    "        )\n",
    "        forecast_data = forecast_response.json()\n",
    "        \n",
    "        return weather_data, forecast_data\n"
   ]
  },
  {
   "cell_type": "code",
   "execution_count": null,
   "metadata": {},
   "outputs": [],
   "source": [
    "import asyncio\n",
    "\n",
    "# Example: Fetch data for London\n",
    "weather_data, forecast_data = await fetch_weather_data(\"London\", \"UK\")\n",
    "\n",
    "# Display raw current weather data\n",
    "print(\"Current Weather Raw Data:\")\n",
    "JSON(weather_data)\n"
   ]
  },
  {
   "cell_type": "code",
   "execution_count": null,
   "metadata": {},
   "outputs": [],
   "source": [
    "# Display forecast data with precipitation probability\n",
    "print(\"\\nForecast Raw Data (including precipitation probability):\")\n",
    "JSON(forecast_data)\n"
   ]
  },
  {
   "cell_type": "code",
   "execution_count": null,
   "metadata": {},
   "outputs": [],
   "source": [
    "# Create a DataFrame with forecast data for better analysis\n",
    "forecast_items = forecast_data['list']\n",
    "forecast_df = pd.DataFrame([\n",
    "    {\n",
    "        'time': item['dt_txt'],\n",
    "        'temperature': item['main']['temp'],\n",
    "        'precipitation_prob': item.get('pop', 0) * 100,  # Convert to percentage\n",
    "        'humidity': item['main']['humidity'],\n",
    "        'description': item['weather'][0]['description']\n",
    "    }\n",
    "    for item in forecast_items\n",
    "])\n",
    "\n",
    "print(\"Forecast data in tabular format:\")\n",
    "forecast_df\n"
   ]
  },
  {
   "cell_type": "code",
   "execution_count": null,
   "metadata": {},
   "outputs": [],
   "source": [
    "# Visualize precipitation probability over time\n",
    "import matplotlib.pyplot as plt\n",
    "\n",
    "plt.figure(figsize=(12, 6))\n",
    "plt.plot(forecast_df['time'], forecast_df['precipitation_prob'], marker='o')\n",
    "plt.title('Precipitation Probability Over Time')\n",
    "plt.xlabel('Time')\n",
    "plt.ylabel('Precipitation Probability (%)')\n",
    "plt.xticks(rotation=45)\n",
    "plt.tight_layout()\n",
    "plt.grid(True)\n",
    "plt.show()\n"
   ]
  }
 ],
 "metadata": {
  "kernelspec": {
   "display_name": ".venv",
   "language": "python",
   "name": "python3"
  },
  "language_info": {
   "name": "python",
   "version": "3.13.3"
  }
 },
 "nbformat": 4,
 "nbformat_minor": 2
}
